{
 "cells": [
  {
   "cell_type": "code",
   "execution_count": 48,
   "metadata": {},
   "outputs": [],
   "source": [
    "import mysql.connector as con\n",
    "from mysql.connector import Error\n",
    "import pandas as pd"
   ]
  },
  {
   "cell_type": "code",
   "execution_count": 49,
   "metadata": {},
   "outputs": [
    {
     "data": {
      "text/html": [
       "<div>\n",
       "<style scoped>\n",
       "    .dataframe tbody tr th:only-of-type {\n",
       "        vertical-align: middle;\n",
       "    }\n",
       "\n",
       "    .dataframe tbody tr th {\n",
       "        vertical-align: top;\n",
       "    }\n",
       "\n",
       "    .dataframe thead th {\n",
       "        text-align: right;\n",
       "    }\n",
       "</style>\n",
       "<table border=\"1\" class=\"dataframe\">\n",
       "  <thead>\n",
       "    <tr style=\"text-align: right;\">\n",
       "      <th></th>\n",
       "      <th>Store_id</th>\n",
       "      <th>Store_name</th>\n",
       "      <th>Products</th>\n",
       "      <th>Cust_id</th>\n",
       "    </tr>\n",
       "  </thead>\n",
       "  <tbody>\n",
       "    <tr>\n",
       "      <th>0</th>\n",
       "      <td>1</td>\n",
       "      <td>A</td>\n",
       "      <td>AA</td>\n",
       "      <td>c1</td>\n",
       "    </tr>\n",
       "    <tr>\n",
       "      <th>1</th>\n",
       "      <td>2</td>\n",
       "      <td>B</td>\n",
       "      <td>BB</td>\n",
       "      <td>c2</td>\n",
       "    </tr>\n",
       "    <tr>\n",
       "      <th>2</th>\n",
       "      <td>3</td>\n",
       "      <td>C</td>\n",
       "      <td>CC</td>\n",
       "      <td>c3</td>\n",
       "    </tr>\n",
       "    <tr>\n",
       "      <th>3</th>\n",
       "      <td>4</td>\n",
       "      <td>D</td>\n",
       "      <td>DD</td>\n",
       "      <td>c4</td>\n",
       "    </tr>\n",
       "    <tr>\n",
       "      <th>4</th>\n",
       "      <td>5</td>\n",
       "      <td>E</td>\n",
       "      <td>EE</td>\n",
       "      <td>c5</td>\n",
       "    </tr>\n",
       "  </tbody>\n",
       "</table>\n",
       "</div>"
      ],
      "text/plain": [
       "   Store_id Store_name Products Cust_id\n",
       "0         1          A       AA      c1\n",
       "1         2          B       BB      c2\n",
       "2         3          C       CC      c3\n",
       "3         4          D       DD      c4\n",
       "4         5          E       EE      c5"
      ]
     },
     "execution_count": 49,
     "metadata": {},
     "output_type": "execute_result"
    }
   ],
   "source": [
    "#Table1 - Store\n",
    "store = pd.read_excel(r\"C:\\Users\\ajay\\Documents\\B.tech\\sem7\\DMT\\data\\datasets\\Dataset.xlsx\")\n",
    "store.head()"
   ]
  },
  {
   "cell_type": "code",
   "execution_count": 50,
   "metadata": {},
   "outputs": [
    {
     "data": {
      "text/html": [
       "<div>\n",
       "<style scoped>\n",
       "    .dataframe tbody tr th:only-of-type {\n",
       "        vertical-align: middle;\n",
       "    }\n",
       "\n",
       "    .dataframe tbody tr th {\n",
       "        vertical-align: top;\n",
       "    }\n",
       "\n",
       "    .dataframe thead th {\n",
       "        text-align: right;\n",
       "    }\n",
       "</style>\n",
       "<table border=\"1\" class=\"dataframe\">\n",
       "  <thead>\n",
       "    <tr style=\"text-align: right;\">\n",
       "      <th></th>\n",
       "      <th>Pur_id</th>\n",
       "      <th>Store_id</th>\n",
       "      <th>Cust_id</th>\n",
       "      <th>Quntity</th>\n",
       "      <th>Unit_val</th>\n",
       "      <th>Total_val</th>\n",
       "    </tr>\n",
       "  </thead>\n",
       "  <tbody>\n",
       "    <tr>\n",
       "      <th>0</th>\n",
       "      <td>p1</td>\n",
       "      <td>1</td>\n",
       "      <td>c1</td>\n",
       "      <td>4</td>\n",
       "      <td>20</td>\n",
       "      <td>80</td>\n",
       "    </tr>\n",
       "    <tr>\n",
       "      <th>1</th>\n",
       "      <td>p2</td>\n",
       "      <td>2</td>\n",
       "      <td>c2</td>\n",
       "      <td>8</td>\n",
       "      <td>4</td>\n",
       "      <td>32</td>\n",
       "    </tr>\n",
       "    <tr>\n",
       "      <th>2</th>\n",
       "      <td>p3</td>\n",
       "      <td>3</td>\n",
       "      <td>c3</td>\n",
       "      <td>5</td>\n",
       "      <td>20</td>\n",
       "      <td>100</td>\n",
       "    </tr>\n",
       "    <tr>\n",
       "      <th>3</th>\n",
       "      <td>p4</td>\n",
       "      <td>6</td>\n",
       "      <td>c4</td>\n",
       "      <td>6</td>\n",
       "      <td>10</td>\n",
       "      <td>60</td>\n",
       "    </tr>\n",
       "    <tr>\n",
       "      <th>4</th>\n",
       "      <td>p5</td>\n",
       "      <td>4</td>\n",
       "      <td>c5</td>\n",
       "      <td>7</td>\n",
       "      <td>40</td>\n",
       "      <td>280</td>\n",
       "    </tr>\n",
       "  </tbody>\n",
       "</table>\n",
       "</div>"
      ],
      "text/plain": [
       "  Pur_id  Store_id Cust_id  Quntity  Unit_val  Total_val\n",
       "0     p1         1      c1        4        20         80\n",
       "1     p2         2      c2        8         4         32\n",
       "2     p3         3      c3        5        20        100\n",
       "3     p4         6      c4        6        10         60\n",
       "4     p5         4      c5        7        40        280"
      ]
     },
     "execution_count": 50,
     "metadata": {},
     "output_type": "execute_result"
    }
   ],
   "source": [
    "#Table2 - Purchase\n",
    "purchase= pd.read_excel(r\"C:\\Users\\ajay\\Documents\\B.tech\\sem7\\DMT\\data\\datasets\\Dataset.xlsx\",sheet_name = 'Purchase')\n",
    "purchase.head()"
   ]
  },
  {
   "cell_type": "code",
   "execution_count": 51,
   "metadata": {},
   "outputs": [
    {
     "data": {
      "text/html": [
       "<div>\n",
       "<style scoped>\n",
       "    .dataframe tbody tr th:only-of-type {\n",
       "        vertical-align: middle;\n",
       "    }\n",
       "\n",
       "    .dataframe tbody tr th {\n",
       "        vertical-align: top;\n",
       "    }\n",
       "\n",
       "    .dataframe thead th {\n",
       "        text-align: right;\n",
       "    }\n",
       "</style>\n",
       "<table border=\"1\" class=\"dataframe\">\n",
       "  <thead>\n",
       "    <tr style=\"text-align: right;\">\n",
       "      <th></th>\n",
       "      <th>Cust_id</th>\n",
       "      <th>Store_id</th>\n",
       "      <th>Name</th>\n",
       "      <th>State</th>\n",
       "    </tr>\n",
       "  </thead>\n",
       "  <tbody>\n",
       "    <tr>\n",
       "      <th>0</th>\n",
       "      <td>c1</td>\n",
       "      <td>1</td>\n",
       "      <td>AJ</td>\n",
       "      <td>Mum</td>\n",
       "    </tr>\n",
       "    <tr>\n",
       "      <th>1</th>\n",
       "      <td>c2</td>\n",
       "      <td>2</td>\n",
       "      <td>JV</td>\n",
       "      <td>Mum</td>\n",
       "    </tr>\n",
       "    <tr>\n",
       "      <th>2</th>\n",
       "      <td>c3</td>\n",
       "      <td>3</td>\n",
       "      <td>RA</td>\n",
       "      <td>Mum</td>\n",
       "    </tr>\n",
       "    <tr>\n",
       "      <th>3</th>\n",
       "      <td>c4</td>\n",
       "      <td>4</td>\n",
       "      <td>SH</td>\n",
       "      <td>Bang</td>\n",
       "    </tr>\n",
       "    <tr>\n",
       "      <th>4</th>\n",
       "      <td>c5</td>\n",
       "      <td>5</td>\n",
       "      <td>JA</td>\n",
       "      <td>Chenn</td>\n",
       "    </tr>\n",
       "  </tbody>\n",
       "</table>\n",
       "</div>"
      ],
      "text/plain": [
       "  Cust_id  Store_id Name  State\n",
       "0      c1         1   AJ    Mum\n",
       "1      c2         2   JV    Mum\n",
       "2      c3         3   RA    Mum\n",
       "3      c4         4   SH   Bang\n",
       "4      c5         5   JA  Chenn"
      ]
     },
     "execution_count": 51,
     "metadata": {},
     "output_type": "execute_result"
    }
   ],
   "source": [
    "#Table3 - Customer\n",
    "Customer = pd.read_excel(r\"C:\\Users\\ajay\\Documents\\B.tech\\sem7\\DMT\\data\\datasets\\Dataset.xlsx\",sheet_name = 'Customer')\n",
    "Customer.head()"
   ]
  },
  {
   "cell_type": "code",
   "execution_count": 52,
   "metadata": {},
   "outputs": [],
   "source": [
    "def create_DB():\n",
    "    try:\n",
    "        conn = con.connect(host=\"127.0.0.1\",database = \"test\", user = \"root\", password = \"root\")\n",
    "        if(conn.is_connected()):\n",
    "            cur = conn.cursor()\n",
    "            cur.execute(\"CREATE DATABASE IF NOT EXISTS sales\")\n",
    "            conn.commit()\n",
    "            cur.close()\n",
    "            \n",
    "            conn = con.connect(host=\"127.0.0.1\",database=\"sales\",user = \"root\",password=\"root\")\n",
    "            cur = conn.cursor()\n",
    "            return conn,cur\n",
    "    except Error as e:\n",
    "        print(\"error while creating DB\",e)\n",
    "        "
   ]
  },
  {
   "cell_type": "code",
   "execution_count": 53,
   "metadata": {},
   "outputs": [],
   "source": [
    "Conn,cur = create_DB()"
   ]
  },
  {
   "cell_type": "code",
   "execution_count": 54,
   "metadata": {},
   "outputs": [],
   "source": [
    "#Store_table\n",
    "create_store = \"\"\"CREATE TABLE IF NOT EXISTS Store(Store_id INT PRIMARY KEY,\n",
    "Store_name VARCHAR(20),\n",
    "Products VARCHAR(20),\n",
    "Cust_id VARCHAR(20))\n",
    "\"\"\"\n",
    "\n",
    "cur.execute(create_store)\n",
    "Conn.commit()"
   ]
  },
  {
   "cell_type": "code",
   "execution_count": 55,
   "metadata": {},
   "outputs": [],
   "source": [
    "#Purchase Table\n",
    "create_purchase = \"\"\"CREATE TABLE IF NOT EXISTS Purchase(Pur_id VARCHAR(20) PRIMARY KEY,\n",
    "Store_id INT,\n",
    "Cust_id VARCHAR(20),\n",
    "Quntity INT,\n",
    "Unit_val INT,\n",
    "Total_val INT\n",
    ")\"\"\"\n",
    "\n",
    "cur.execute(create_purchase)\n",
    "Conn.commit()"
   ]
  },
  {
   "cell_type": "code",
   "execution_count": 56,
   "metadata": {},
   "outputs": [],
   "source": [
    "# Customer Table\n",
    "customer_create = \"\"\"CREATE TABLE IF NOT EXISTS Customer(Cust_id VARCHAR(20),\n",
    "Store_id INT,\n",
    "Name VARCHAR(20),\n",
    "State VARCHAR(20)\n",
    ")\"\"\"\n",
    "\n",
    "cur.execute(customer_create)\n",
    "Conn.commit()"
   ]
  },
  {
   "cell_type": "code",
   "execution_count": 57,
   "metadata": {},
   "outputs": [],
   "source": [
    "#Inseting in store table\n",
    "cur.execute(\"TRUNCATE TABLE store\")\n",
    "store_insert = \"\"\"INSERT INTO STORE(Store_id,Store_name,Products,Cust_id) VALUES (%s,%s,%s,%s)\"\"\"\n",
    "\n",
    "for i,row in store.iterrows():\n",
    "    cur.execute(store_insert,list(row))\n",
    "    \n",
    "Conn.commit()"
   ]
  },
  {
   "cell_type": "code",
   "execution_count": 58,
   "metadata": {},
   "outputs": [],
   "source": [
    "#Inseting in Purchase table\n",
    "cur.execute(\"TRUNCATE TABLE Purchase\")\n",
    "purchase_insert = \"\"\"INSERT INTO Purchase(Pur_id,Store_id,Cust_id,Quntity,Unit_val,Total_val) VALUES (%s,%s,%s,%s,%s,%s)\"\"\"\n",
    "\n",
    "for i,row in purchase.iterrows():\n",
    "    cur.execute(purchase_insert,list(row))\n",
    "    \n",
    "Conn.commit()"
   ]
  },
  {
   "cell_type": "code",
   "execution_count": 59,
   "metadata": {},
   "outputs": [],
   "source": [
    "#Inseting in customer table\n",
    "cur.execute(\"TRUNCATE TABLE Customer\")\n",
    "customer_insert = \"\"\"INSERT INTO Customer(Cust_id,Store_id,Name,State) VALUES (%s,%s,%s,%s)\"\"\"\n",
    "\n",
    "for i,row in Customer.iterrows():\n",
    "    cur.execute(customer_insert,list(row))\n",
    "    \n",
    "Conn.commit()"
   ]
  },
  {
   "cell_type": "code",
   "execution_count": 60,
   "metadata": {},
   "outputs": [
    {
     "name": "stdout",
     "output_type": "stream",
     "text": [
      "connected to version 8.0.30\n",
      "connected database ('test',)\n",
      "test\n"
     ]
    }
   ],
   "source": [
    "#creatting Connection TEST\n",
    "try:\n",
    "    conn = con.connect(host='127.0.0.1',database='test',user='root',password='root')\n",
    "    if conn.is_connected():\n",
    "        db_info = conn.get_server_info()\n",
    "        print(\"connected to version\",db_info)\n",
    "        cur = conn.cursor()\n",
    "        cur.execute(\"select database();\")\n",
    "        record = cur.fetchone()\n",
    "        print(\"connected database\",record)\n",
    "        for r in record:\n",
    "            print(r)\n",
    "        \n",
    "except Error as e:\n",
    "    print(\"Connection error\",e)"
   ]
  },
  {
   "cell_type": "code",
   "execution_count": null,
   "metadata": {},
   "outputs": [],
   "source": [
    "print(\"Demo completed\")\n",
    "print(\"new line\")"
   ]
  },
  {
   "cell_type": "code",
   "execution_count": null,
   "metadata": {},
   "outputs": [],
   "source": []
  }
 ],
 "metadata": {
  "kernelspec": {
   "display_name": "Python 3",
   "language": "python",
   "name": "python3"
  },
  "language_info": {
   "codemirror_mode": {
    "name": "ipython",
    "version": 3
   },
   "file_extension": ".py",
   "mimetype": "text/x-python",
   "name": "python",
   "nbconvert_exporter": "python",
   "pygments_lexer": "ipython3",
   "version": "3.7.3"
  }
 },
 "nbformat": 4,
 "nbformat_minor": 2
}
